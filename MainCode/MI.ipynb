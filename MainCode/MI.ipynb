{
 "cells": [
  {
   "cell_type": "code",
   "execution_count": 2,
   "metadata": {},
   "outputs": [
    {
     "name": "stdout",
     "output_type": "stream",
     "text": [
      "Cyclomatic Complexity values added successfully!\n"
     ]
    }
   ],
   "source": [
    "import pandas as pd\n",
    "import lizard\n",
    "\n",
    "# File paths (Update as needed)\n",
    "input_csv = \"Output.csv\"  # CSV containing Java code\n",
    "metrics_csv = \"MI_1200.csv\"  # CSV to store computed metrics\n",
    "\n",
    "# Load input CSV\n",
    "input_df = pd.read_csv(input_csv)\n",
    "\n",
    "# Function to compute Cyclomatic Complexity (CC)\n",
    "def compute_cc(java_code):\n",
    "    # Handle NaN values: If the input is NaN, treat it as an empty string\n",
    "    if isinstance(java_code, float) and pd.isna(java_code):\n",
    "        java_code = \"\"\n",
    "    \n",
    "    # Analyze the Java code using Lizard\n",
    "    analysis = lizard.analyze_file.analyze_source_code(\"Example.java\", java_code)\n",
    "    \n",
    "    # Sum the cyclomatic complexity of all functions in the code\n",
    "    return sum(func.cyclomatic_complexity for func in analysis.function_list)\n",
    "\n",
    "# Compute CC for each Java code snippet\n",
    "input_df[\"CC\"] = input_df[\"Generated Java Code\"].apply(compute_cc)\n",
    "\n",
    "# Load metrics CSV (if exists), otherwise create new\n",
    "try:\n",
    "    metrics_df = pd.read_csv(metrics_csv)\n",
    "except FileNotFoundError:\n",
    "    metrics_df = pd.DataFrame(columns=[\"Example\", \"Halstead_Volume\"])\n",
    "\n",
    "# Merge CC values with existing metrics\n",
    "metrics_df = metrics_df.merge(input_df[[\"Example\", \"CC\"]], on=\"Example\", how=\"left\")\n",
    "\n",
    "# Save the updated metrics CSV\n",
    "metrics_df.to_csv(metrics_csv, index=False)\n",
    "\n",
    "print(\"Cyclomatic Complexity values added successfully!\")"
   ]
  },
  {
   "cell_type": "markdown",
   "metadata": {},
   "source": [
    "LOC"
   ]
  },
  {
   "cell_type": "code",
   "execution_count": 3,
   "metadata": {},
   "outputs": [
    {
     "name": "stdout",
     "output_type": "stream",
     "text": [
      "Lines of Code (LOC) values added successfully!\n"
     ]
    }
   ],
   "source": [
    "# Function to calculate Lines of Code (LOC)\n",
    "def calculate_loc(java_code):\n",
    "    # Handle NaN values: If the input is NaN, treat it as an empty string\n",
    "    if isinstance(java_code, float) and pd.isna(java_code):\n",
    "        java_code = \"\"\n",
    "    \n",
    "    # Split the code into lines and count non-empty lines\n",
    "    lines = java_code.splitlines()\n",
    "    \n",
    "    # Filter out empty lines and comment lines\n",
    "    non_empty_lines = [\n",
    "        line for line in lines \n",
    "        if line.strip() and not line.strip().startswith((\"//\", \"/*\", \"*\", \"*/\"))\n",
    "    ]\n",
    "    \n",
    "    # Return the count of non-empty lines\n",
    "    return len(non_empty_lines)\n",
    "\n",
    "# Calculate LOC for each Java code snippet\n",
    "input_df[\"LOC\"] = input_df[\"Generated Java Code\"].apply(calculate_loc)\n",
    "\n",
    "# Load metrics CSV (if exists), otherwise create new\n",
    "try:\n",
    "    metrics_df = pd.read_csv(metrics_csv)\n",
    "    metrics_df.columns = metrics_df.columns.str.strip()  # Strip spaces from column names\n",
    "except FileNotFoundError:\n",
    "    metrics_df = pd.DataFrame(columns=[\"Example\", \"Halstead_Volume\", \"CC\"])\n",
    "\n",
    "# Merge LOC values with existing metrics\n",
    "metrics_df = metrics_df.merge(input_df[[\"Example\", \"LOC\"]], on=\"Example\", how=\"left\")\n",
    "\n",
    "# Save the updated metrics CSV\n",
    "metrics_df.to_csv(metrics_csv, index=False)\n",
    "\n",
    "print(\"Lines of Code (LOC) values added successfully!\")"
   ]
  },
  {
   "cell_type": "markdown",
   "metadata": {},
   "source": [
    "MI\n"
   ]
  },
  {
   "cell_type": "code",
   "execution_count": null,
   "metadata": {},
   "outputs": [
    {
     "name": "stdout",
     "output_type": "stream",
     "text": [
      "Maintainability Index (MI) calculated and saved to reports\\Final_MI_1200.csv.\n"
     ]
    }
   ],
   "source": [
    "import pandas as pd\n",
    "import numpy as np\n",
    "import os\n",
    "\n",
    "# File paths\n",
    "input_csv = \"MI_1200.csv\"  # Input CSV file\n",
    "output_folder = \"reports\"  # Folder to save the output CSV\n",
    "output_csv = os.path.join(output_folder, \"Final_MI_1200.csv\")  # Output CSV file path\n",
    "\n",
    "# Ensure the output folder exists\n",
    "os.makedirs(output_folder, exist_ok=True)\n",
    "\n",
    "# Load the CSV file\n",
    "df = pd.read_csv(input_csv)\n",
    "\n",
    "# Ensure column names are stripped of leading/trailing spaces\n",
    "df.columns = df.columns.str.strip()\n",
    "\n",
    "# Function to calculate Maintainability Index (MI)\n",
    "def calculate_mi(row):\n",
    "    # Check if all columns are zero or invalid\n",
    "    if row[\"Halstead_Volume\"] == 0 and row[\"CC\"] == 0 and row[\"LOC\"] == 0:\n",
    "        return 0, \"NO Generated Code\"\n",
    "    \n",
    "    # Calculate MI only if the values are valid\n",
    "    try:\n",
    "        mi = (\n",
    "            171\n",
    "            - 5.2 * np.log(row[\"Halstead_Volume\"])\n",
    "            - 0.23 * row[\"CC\"]\n",
    "            - 16.2 * np.log(row[\"LOC\"])\n",
    "        )\n",
    "    except (ValueError, ZeroDivisionError):\n",
    "        # Handle cases where log(0) or other invalid operations occur\n",
    "        return 0, \"NO Generated Code\"\n",
    "    \n",
    "    # Interpret the MI value\n",
    "    if mi > 8.5:\n",
    "        interpretation = \"Highly Maintainable\"\n",
    "    elif mi > 6.5:\n",
    "        interpretation = \"Moderately Maintainable\"\n",
    "    else:\n",
    "        interpretation = \"Difficult to Maintain\"\n",
    "    \n",
    "    return mi, interpretation\n",
    "\n",
    "# Apply the function to calculate MI and MI_Interpretation\n",
    "df[[\"MI\", \"MI_Interpretation\"]] = df.apply(calculate_mi, axis=1, result_type=\"expand\")\n",
    "\n",
    "# Save the updated DataFrame to the specified folder\n",
    "df.to_csv(output_csv, index=False)\n",
    "\n",
    "print(f\"Maintainability Index (MI) calculated and saved to {output_csv}.\")\n",
    "\n"
   ]
  },
  {
   "cell_type": "markdown",
   "metadata": {},
   "source": [
    "Average of ALL"
   ]
  },
  {
   "cell_type": "code",
   "execution_count": null,
   "metadata": {},
   "outputs": [
    {
     "name": "stdout",
     "output_type": "stream",
     "text": [
      "MI Rating to LLM = 63.1182\n",
      "MI Interpretation for Average MI = Difficult to Maintain\n"
     ]
    }
   ],
   "source": [
    "# Calculate the average MI (excluding rows with MI = 0 or \"NO Generated Code\")\n",
    "valid_mi_df = df[(df[\"MI\"] != 0) & (df[\"MI_Interpretation\"] != \"NO Generated Code\")]\n",
    "average_mi = valid_mi_df[\"MI\"].mean()\n",
    "\n",
    "# Round the average MI to 2 decimal places\n",
    "average_mi_rounded = round(average_mi, 4)\n",
    "\n",
    "# Interpret the average MI\n",
    "if average_mi_rounded > 8.5:\n",
    "    average_interpretation = \"Highly Maintainable\"\n",
    "elif average_mi_rounded > 6.5:\n",
    "    average_interpretation = \"Moderately Maintainable\"\n",
    "else:\n",
    "    average_interpretation = \"Difficult to Maintain\"\n",
    "\n",
    "# Print the results\n",
    "print(f\"MI Rating to LLM = {average_mi_rounded}\")\n",
    "print(f\"MI Interpretation for Average MI = {average_interpretation}\")"
   ]
  },
  {
   "cell_type": "code",
   "execution_count": null,
   "metadata": {},
   "outputs": [
    {
     "name": "stdout",
     "output_type": "stream",
     "text": [
      "Results for Gemini-pro:\n",
      "MI Rating = 66.6664\n",
      "MI Interpretation = Moderately Maintainable\n",
      "----------------------------------------\n",
      "Results for Gemini 2.0-flash:\n",
      "MI Rating = 63.1182\n",
      "MI Interpretation = Difficult to Maintain\n",
      "----------------------------------------\n"
     ]
    }
   ],
   "source": [
    "import pandas as pd\n",
    "import matplotlib.pyplot as plt\n",
    "\n",
    "# Define file paths and corresponding tags\n",
    "file_paths = {\n",
    "    \"Gemini-pro\": \"reports/Final_MI_200.csv\",\n",
    "    \"Gemini 2.0-flash\": \"reports/Final_MI_1200.csv\"\n",
    "}\n",
    "\n",
    "# Initialize a dictionary to store results\n",
    "results = {\n",
    "    \"Model\": [],\n",
    "    \"Average MI\": [],\n",
    "    \"Interpretation\": []\n",
    "}\n",
    "\n",
    "# Process each file\n",
    "for model, file_path in file_paths.items():\n",
    "    # Read the CSV file\n",
    "    df = pd.read_csv(file_path)\n",
    "    \n",
    "    # Filter out rows with MI = 0 or \"NO Generated Code\"\n",
    "    valid_mi_df = df[(df[\"MI\"] != 0) & (df[\"MI_Interpretation\"] != \"NO Generated Code\")]\n",
    "    \n",
    "    # Calculate the average MI\n",
    "    average_mi = valid_mi_df[\"MI\"].mean()\n",
    "    average_mi_rounded = round(average_mi, 4)\n",
    "    \n",
    "    # Interpret the average MI\n",
    "    if average_mi_rounded > 8.5:\n",
    "        average_interpretation = \"Highly Maintainable\"\n",
    "    elif average_mi_rounded > 6.5:\n",
    "        average_interpretation = \"Moderately Maintainable\"\n",
    "    else:\n",
    "        average_interpretation = \"Difficult to Maintain\"\n",
    "    \n",
    "    # Store the results\n",
    "    results[\"Model\"].append(model)\n",
    "    results[\"Average MI\"].append(average_mi_rounded)\n",
    "    results[\"Interpretation\"].append(average_interpretation)\n",
    "    \n",
    "    # Print the results\n",
    "    print(f\"Results for {model}:\")\n",
    "    print(f\"MI Rating = {average_mi_rounded}\")\n",
    "    print(f\"MI Interpretation = {average_interpretation}\")\n",
    "    print(\"-\" * 40)\n",
    "\n"
   ]
  },
  {
   "cell_type": "code",
   "execution_count": 15,
   "metadata": {},
   "outputs": [
    {
     "data": {
      "image/png": "[encoded data removed]",
      "text/plain": [
       "<Figure size 800x600 with 1 Axes>"
      ]
     },
     "metadata": {},
     "output_type": "display_data"
    }
   ],
   "source": [
    "# Create a DataFrame for plotting\n",
    "results_df = pd.DataFrame(results)\n",
    "\n",
    "# Plot the bar chart with touching bars\n",
    "plt.figure(figsize=(8, 6))\n",
    "bars = plt.bar(results_df[\"Model\"], results_df[\"Average MI\"], color=['skyblue', 'lightgreen'], width=0.6, edgecolor='black')  # Wider bars with no gap\n",
    "\n",
    "# Add horizontal lines for thresholds\n",
    "plt.axhline(y=85, color='red', linestyle='--', label=\"Highly Maintainable (85)\")\n",
    "plt.axhline(y=65, color='orange', linestyle='--', label=\"Moderately Maintainable (65)\")\n",
    "\n",
    "# Add labels and title\n",
    "plt.xlabel(\"Model\", fontsize=12)\n",
    "plt.ylabel(\"Average Maintainability Index (MI)\", fontsize=12)\n",
    "plt.title(\"Comparison of Average Maintainability Index\", fontsize=14)\n",
    "\n",
    "# Add interpretation text on the bars\n",
    "for bar, interpretation in zip(bars, results_df[\"Interpretation\"]):\n",
    "    height = bar.get_height()\n",
    "    plt.text(bar.get_x() + bar.get_width() / 2, height, interpretation,\n",
    "             ha='center', va='bottom', fontsize=10, color='black')\n",
    "\n",
    "# Adjust y-axis limits\n",
    "plt.ylim(0, max(results_df[\"Average MI\"]) + 10)  # Add some padding to the y-axis\n",
    "\n",
    "# Add legend for the horizontal lines\n",
    "plt.legend(loc='upper right', fontsize=10)\n",
    "\n",
    "# Show the plot\n",
    "plt.tight_layout()\n",
    "plt.show()"
   ]
  }
 ],
 "metadata": {
  "kernelspec": {
   "display_name": "Python 3",
   "language": "python",
   "name": "python3"
  },
  "language_info": {
   "codemirror_mode": {
    "name": "ipython",
    "version": 3
   },
   "file_extension": ".py",
   "mimetype": "text/x-python",
   "name": "python",
   "nbconvert_exporter": "python",
   "pygments_lexer": "ipython3",
   "version": "3.12.2"
  }
 },
 "nbformat": 4,
 "nbformat_minor": 2
}
