{
 "cells": [
  {
   "cell_type": "markdown",
   "id": "126b38ed",
   "metadata": {},
   "source": [
    "# Linear Regression"
   ]
  },
  {
   "cell_type": "markdown",
   "id": "b3644e2e",
   "metadata": {},
   "source": []
  },
  {
   "cell_type": "code",
   "execution_count": null,
   "id": "b2464698",
   "metadata": {},
   "outputs": [],
   "source": [
    "\n",
    "import pandas as pd\n",
    "import numpy as np\n",
    "\n",
    "\n",
    "data = pd.read_csv('RegressionMetrics.csv')  \n",
    "\n",
    "# columns\n",
    "features = ['methods_per_class', 'params_per_method', 'cyclomatic_complexity', \n",
    "            'comment_density', 'loc_per_method', 'public_methods', 'nesting_depth','halstead_volume']\n",
    "target = 'overall'\n",
    "\n",
    "X = data[features]\n",
    "y = data[target]\n",
    "\n",
    "# print(\"Data shape:\", X.shape)\n",
    "# print(X.head())\n",
    "\n",
    "#  Splitting the data s (80% train, 20% test)\n",
    "from sklearn.model_selection import train_test_split\n",
    "\n",
    "X_train, X_test, y_train, y_test = train_test_split(\n",
    "    X, y, test_size=0.2, random_state=42\n",
    ")\n",
    "\n",
    "# print(\"Training set:\", X_train.shape)\n",
    "# print(\"Testing set:\", X_test.shape)\n",
    "\n",
    "\n",
    "\n",
    "from sklearn.linear_model import LinearRegression\n",
    "from sklearn.metrics import mean_absolute_error, mean_squared_error, r2_score\n",
    "from sklearn.model_selection import cross_val_score\n",
    "\n",
    "# Initialize Linear Regression model\n",
    "lin_reg = LinearRegression()\n",
    "lin_reg.fit(X_train, y_train)\n",
    "\n",
    "# Predict\n",
    "y_pred_lin = lin_reg.predict(X_test)\n",
    "\n",
    "# Evaluation metrics for Linear Regression\n",
    "r2_lin = r2_score(y_test, y_pred_lin)\n",
    "mae_lin = mean_absolute_error(y_test, y_pred_lin)\n",
    "rmse_lin = np.sqrt(mean_squared_error(y_test, y_pred_lin))\n",
    "\n",
    "print(\"\\n🔵 Linear Regression Performance:\")\n",
    "print(f\"R² Score: {r2_lin:.4f}\")\n",
    "print(f\"MAE: {mae_lin:.4f}\")\n",
    "print(f\"RMSE: {rmse_lin:.4f}\")\n",
    "\n",
    "# 5-Fold Cross-validation scores\n",
    "cv_r2_lin = cross_val_score(lin_reg, X, y, cv=5, scoring='r2').mean()\n",
    "cv_mae_lin = -cross_val_score(lin_reg, X, y, cv=5, scoring='neg_mean_absolute_error').mean()\n",
    "cv_rmse_lin = np.sqrt(-cross_val_score(lin_reg, X, y, cv=5, scoring='neg_mean_squared_error').mean())\n",
    "\n",
    "print(f\"Cross-validated R²: {cv_r2_lin:.4f}\")\n",
    "print(f\"Cross-validated MAE: {cv_mae_lin:.4f}\")\n",
    "print(f\"Cross-validated RMSE: {cv_rmse_lin:.4f}\")\n",
    "\n",
    "\n",
    "\n",
    "\n",
    "\n",
    "\n",
    "\n",
    "coefs = lin_reg.coef_\n",
    "intercept = lin_reg.intercept_\n",
    "\n",
    "equation = f\"overall = {intercept:.4f}\"\n",
    "for coef, feature in zip(coefs, features):\n",
    "    equation += f\" + ({coef:.4f} * {feature})\"\n",
    "\n",
    "print(\"\\n Linear Regression Equation:\")\n",
    "print(equation)\n"
   ]
  },
  {
   "cell_type": "code",
   "execution_count": null,
   "id": "10d92213",
   "metadata": {},
   "outputs": [],
   "source": []
  },
  {
   "cell_type": "markdown",
   "id": "a68e444b",
   "metadata": {},
   "source": [
    "### Linear Regression\n"
   ]
  },
  {
   "cell_type": "markdown",
   "id": "ed75951f",
   "metadata": {},
   "source": [
    "##  Visualizing the coefficients (feature importance)"
   ]
  },
  {
   "cell_type": "code",
   "execution_count": null,
   "id": "46abd550",
   "metadata": {},
   "outputs": [],
   "source": [
    "\n",
    "\n",
    "import seaborn as sns\n",
    "import matplotlib.pyplot as plt\n",
    "\n",
    "# Create a dataframe for easier plotting\n",
    "coef_df = pd.DataFrame({\n",
    "    'Feature': features,\n",
    "    'Coefficient': coefs\n",
    "})\n",
    "\n",
    "# Sort by magnitude of coefficient\n",
    "coef_df = coef_df.sort_values(by='Coefficient', ascending=False)\n",
    "\n",
    "# Plot\n",
    "plt.figure(figsize=(12,6))\n",
    "sns.barplot(x='Coefficient', y='Feature', data=coef_df, palette='coolwarm')\n",
    "plt.title('Feature Importance based on Linear Regression Coefficients')\n",
    "plt.axvline(0, color='black', linewidth=0.8)\n",
    "plt.grid(axis='x')\n",
    "plt.show()\n"
   ]
  },
  {
   "cell_type": "markdown",
   "id": "99b63d23",
   "metadata": {},
   "source": [
    "# if we use Natural log for featurs "
   ]
  },
  {
   "cell_type": "code",
   "execution_count": 11,
   "id": "64fbfe09",
   "metadata": {},
   "outputs": [
    {
     "name": "stdout",
     "output_type": "stream",
     "text": [
      "New R² Score after log transform: 0.4473\n",
      "\n",
      "New Regression Equation:\n",
      "overall = 9.4692 + (-1.0243 * log(methods_per_class)) + (0.0279 * log(params_per_method)) + (-1.0536 * log(cyclomatic_complexity)) + (0.2572 * log(comment_density)) + (-0.3954 * log(loc_per_method)) + (1.4633 * log(public_methods)) + (-0.4576 * log(nesting_depth)) + (-1.2559 * log(halstead_volume)) \n"
     ]
    }
   ],
   "source": [
    "import numpy as np\n",
    "from sklearn.linear_model import LinearRegression\n",
    "from sklearn.metrics import r2_score\n",
    "\n",
    "# 1. Apply natural log to features\n",
    "X_log = np.log(X + 1e-8)  # small value to avoid log(0)\n",
    "\n",
    "# 2. Create and fit linear regression\n",
    "model_log = LinearRegression()\n",
    "model_log.fit(X_log, y)\n",
    "\n",
    "# 3. Predict\n",
    "y_pred_log = model_log.predict(X_log)\n",
    "\n",
    "# 4. Calculate R² score\n",
    "r2_log = r2_score(y, y_pred_log)\n",
    "print(f\"New R² Score after log transform: {r2_log:.4f}\")\n",
    "\n",
    "# 5. Print the new equation\n",
    "coefs = model_log.coef_\n",
    "intercept = model_log.intercept_\n",
    "feature_names = X.columns\n",
    "\n",
    "equation = f\"overall = {intercept:.4f} \"\n",
    "for coef, name in zip(coefs, feature_names):\n",
    "    equation += f\"+ ({coef:.4f} * log({name})) \"\n",
    "\n",
    "print(\"\\nNew Regression Equation:\")\n",
    "print(equation)\n"
   ]
  }
 ],
 "metadata": {
  "kernelspec": {
   "display_name": "Python 3",
   "language": "python",
   "name": "python3"
  },
  "language_info": {
   "codemirror_mode": {
    "name": "ipython",
    "version": 3
   },
   "file_extension": ".py",
   "mimetype": "text/x-python",
   "name": "python",
   "nbconvert_exporter": "python",
   "pygments_lexer": "ipython3",
   "version": "3.12.2"
  }
 },
 "nbformat": 4,
 "nbformat_minor": 5
}
