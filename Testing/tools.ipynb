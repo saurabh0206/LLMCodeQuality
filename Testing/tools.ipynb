{
 "cells": [
  {
   "cell_type": "markdown",
   "metadata": {},
   "source": [
    "   PMD  SPOTBugs"
   ]
  },
  {
   "cell_type": "code",
   "execution_count": 10,
   "metadata": {},
   "outputs": [
    {
     "name": "stdout",
     "output_type": "stream",
     "text": [
      "Generated Java codes saved to output.csv\n"
     ]
    }
   ],
   "source": [
    "from transformers import RobertaTokenizer, T5ForConditionalGeneration\n",
    "import json\n",
    "import pandas as pd\n",
    "\n",
    "# Load the JSONL file\n",
    "input_file_name = 'try.json'\n",
    "output_file_name = 'output.csv'\n",
    "\n",
    "# Load data from the JSONL file\n",
    "data = []\n",
    "with open(input_file_name, 'r') as file:\n",
    "    for line in file:\n",
    "        try:\n",
    "            data.append(json.loads(line.strip()))\n",
    "        except json.JSONDecodeError as e:\n",
    "            print(f\"Error decoding JSON on line: {line}\")\n",
    "            continue\n",
    "\n",
    "# Initialize the CodeT5 model and tokenizer\n",
    "tokenizer = RobertaTokenizer.from_pretrained('Salesforce/codet5-small')\n",
    "model = T5ForConditionalGeneration.from_pretrained('Salesforce/codet5-small')\n",
    "\n",
    "# Function to generate code for a single prompt\n",
    "def generate_code(prompt):\n",
    "    prompt = f\"\"\"\n",
    "    Generate Java code for the following task. Return ONLY the code, without any explanations, comments, or additional text.\n",
    "    Description: {prompt}\n",
    "    \"\"\"\n",
    "    input_ids = tokenizer(prompt, return_tensors=\"pt\").input_ids\n",
    "    generated_ids = model.generate(input_ids, max_length=512)  # Adjust max_length as needed\n",
    "    generated_code = tokenizer.decode(generated_ids[0], skip_special_tokens=True)\n",
    "    return generated_code\n",
    "\n",
    "# Prepare data for CSV\n",
    "output_data = []\n",
    "\n",
    "# Generate code for only the first 2 entries in the JSON data\n",
    "for index, entry in enumerate(data[:2]):\n",
    "    prompt = entry['nl']\n",
    "    generated_code = generate_code(prompt)\n",
    "    \n",
    "    # Append the example number and generated Java code to the output data\n",
    "    output_data.append({\n",
    "        'Example No': index + 1,\n",
    "        'Java Code': generated_code\n",
    "    })\n",
    "\n",
    "# Create a DataFrame from the output data\n",
    "output_df = pd.DataFrame(output_data)\n",
    "\n",
    "# Save the DataFrame to a CSV file\n",
    "output_df.to_csv(output_file_name, index=False)\n",
    "\n",
    "print(f\"Generated Java codes saved to {output_file_name}\")"
   ]
  },
  {
   "cell_type": "code",
   "execution_count": null,
   "metadata": {},
   "outputs": [],
   "source": []
  },
  {
   "cell_type": "code",
   "execution_count": null,
   "metadata": {},
   "outputs": [],
   "source": []
  }
 ],
 "metadata": {
  "kernelspec": {
   "display_name": "Python 3",
   "language": "python",
   "name": "python3"
  },
  "language_info": {
   "codemirror_mode": {
    "name": "ipython",
    "version": 3
   },
   "file_extension": ".py",
   "mimetype": "text/x-python",
   "name": "python",
   "nbconvert_exporter": "python",
   "pygments_lexer": "ipython3",
   "version": "3.12.2"
  }
 },
 "nbformat": 4,
 "nbformat_minor": 2
}
